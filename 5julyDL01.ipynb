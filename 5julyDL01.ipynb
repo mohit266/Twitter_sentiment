{
  "nbformat": 4,
  "nbformat_minor": 0,
  "metadata": {
    "colab": {
      "name": "5julyDL01.ipynb",
      "version": "0.3.2",
      "provenance": [],
      "collapsed_sections": []
    },
    "kernelspec": {
      "name": "python3",
      "display_name": "Python 3"
    }
  },
  "cells": [
    {
      "cell_type": "markdown",
      "metadata": {
        "id": "G7iYBvuOLfte",
        "colab_type": "text"
      },
      "source": [
        "# Twitter Sentiment"
      ]
    },
    {
      "cell_type": "code",
      "metadata": {
        "id": "JkE3FL89LI0j",
        "colab_type": "code",
        "colab": {}
      },
      "source": [
        "# sudo pip3 install tweepy\n",
        "import tweepy\n",
        "import matplotlib.pyplot as plt\n",
        "import time\n",
        "from textblob import TextBlob"
      ],
      "execution_count": 0,
      "outputs": []
    },
    {
      "cell_type": "code",
      "metadata": {
        "id": "HEhE_2jtLKUT",
        "colab_type": "code",
        "colab": {}
      },
      "source": [
        "# all 4 authentication keys to access twitter API\n",
        "# to connect as OAth handler or jump server / reverse proxy server\n",
        "consumer_key ='****'\n",
        "consumer_sec='*****'\n",
        "\n",
        "# from proxy server we need to connect to web server of twitter\n",
        "access_token='****'\n",
        "access_sec='****'"
      ],
      "execution_count": 0,
      "outputs": []
    },
    {
      "cell_type": "code",
      "metadata": {
        "id": "x8EQTZKDObl_",
        "colab_type": "code",
        "colab": {}
      },
      "source": [
        "# tweepy explore\n",
        "# comnnecting to jump server of twitter\n",
        "dir(tweepy)\n",
        "auth=tweepy.OAuthHandler(consumer_key,consumer_sec)"
      ],
      "execution_count": 0,
      "outputs": []
    },
    {
      "cell_type": "code",
      "metadata": {
        "id": "Xfx4z2W4O_JH",
        "colab_type": "code",
        "colab": {}
      },
      "source": [
        "# now  we can connect from jump server to web server of twitter\n",
        "auth.set_access_token(access_token,access_sec)"
      ],
      "execution_count": 0,
      "outputs": []
    },
    {
      "cell_type": "code",
      "metadata": {
        "id": "aBmet1YDPP6Y",
        "colab_type": "code",
        "colab": {}
      },
      "source": [
        "# now we can connect to API storage server of twitter\n",
        "api_connect=tweepy.API(auth)"
      ],
      "execution_count": 0,
      "outputs": []
    },
    {
      "cell_type": "code",
      "metadata": {
        "id": "veyZcC_SPkww",
        "colab_type": "code",
        "colab": {}
      },
      "source": [
        "# now you can search any topic on twitter\n",
        "tweet_data=api_connect.search('dhoni',count=10)\n",
        "tweet_data"
      ],
      "execution_count": 0,
      "outputs": []
    },
    {
      "cell_type": "code",
      "metadata": {
        "id": "jp5z_nhvQHPX",
        "colab_type": "code",
        "colab": {
          "base_uri": "https://localhost:8080/",
          "height": 451
        },
        "outputId": "46f34954-c249-4451-f094-eaa4c4d608ef"
      },
      "source": [
        "pos=0\n",
        "neg=0\n",
        "neu=0\n",
        "# printing line by line\n",
        "for tweet in tweet_data:\n",
        " # print(tweet.text)\n",
        "  analysis=TextBlob(tweet.text) # here it will apply NLP\n",
        "  print(analysis.sentiment)\n",
        "   # now checking polarity only\n",
        "  if analysis.sentiment.polarity > 0:\n",
        "    print(\"positive\")\n",
        "    pos=pos+1\n",
        "  elif analysis.sentiment.polarity == 0:\n",
        "    print(\"Neutral\")\n",
        "    neu=neu+1\n",
        "  else :\n",
        "    print(\"negative\")\n",
        "    neg=neg+1\n",
        "    \n",
        "# plotting graphs\n",
        "plt.xlabel(\"tags\")\n",
        "plt.ylabel(\"polarity\")\n",
        "plt.bar(['pos','neg','neu'],[pos,neg,neu])\n",
        "plt.show()"
      ],
      "execution_count": 65,
      "outputs": [
        {
          "output_type": "stream",
          "text": [
            "Sentiment(polarity=0.5, subjectivity=1.0)\n",
            "positive\n",
            "Sentiment(polarity=-0.15555555555555559, subjectivity=0.2888888888888889)\n",
            "negative\n",
            "Sentiment(polarity=0.6537499999999999, subjectivity=0.33)\n",
            "positive\n",
            "Sentiment(polarity=0.2, subjectivity=0.1)\n",
            "positive\n",
            "Sentiment(polarity=0.0, subjectivity=0.0)\n",
            "Neutral\n"
          ],
          "name": "stdout"
        },
        {
          "output_type": "display_data",
          "data": {
            "image/png": "[encoded data removed]",
            "text/plain": [
              "<Figure size 432x288 with 1 Axes>"
            ]
          },
          "metadata": {
            "tags": []
          }
        }
      ]
    },
    {
      "cell_type": "code",
      "metadata": {
        "id": "XgZqFMmKTU3j",
        "colab_type": "code",
        "colab": {
          "base_uri": "https://localhost:8080/",
          "height": 406
        },
        "outputId": "0aa25279-33b9-42a8-fccb-71732e4a8ad7"
      },
      "source": [
        "plt.pie([pos,neg,neu],labels=[\"pos\",\"neg\",\"neu\"],autopct='%.02f%%')"
      ],
      "execution_count": 73,
      "outputs": [
        {
          "output_type": "execute_result",
          "data": {
            "text/plain": [
              "([<matplotlib.patches.Wedge at 0x7fe42be589b0>,\n",
              "  <matplotlib.patches.Wedge at 0x7fe42be58208>,\n",
              "  <matplotlib.patches.Wedge at 0x7fe42be53898>],\n",
              " [Text(-0.33991877217145816, 1.046162142464278, 'pos'),\n",
              "  Text(-0.33991852729952715, -1.04616222202798, 'neg'),\n",
              "  Text(0.8899188088302002, -0.6465636192133282, 'neu')],\n",
              " [Text(-0.18541023936624987, 0.5706338958896061, '60.00%'),\n",
              "  Text(-0.18541010579974207, -0.5706339392879891, '20.00%'),\n",
              "  Text(0.48541025936192733, -0.3526710650254517, '20.00%')])"
            ]
          },
          "metadata": {
            "tags": []
          },
          "execution_count": 73
        },
        {
          "output_type": "display_data",
          "data": {
            "image/png": "[encoded data removed]",
            "text/plain": [
              "<Figure size 432x288 with 1 Axes>"
            ]
          },
          "metadata": {
            "tags": []
          }
        }
      ]
    },
    {
      "cell_type": "code",
      "metadata": {
        "id": "pJbXy2PpYVBx",
        "colab_type": "code",
        "colab": {}
      },
      "source": [
        ""
      ],
      "execution_count": 0,
      "outputs": []
    }
  ]
}